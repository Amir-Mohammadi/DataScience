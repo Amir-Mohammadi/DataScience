{
  "nbformat": 4,
  "nbformat_minor": 0,
  "metadata": {
    "colab": {
      "provenance": [],
      "collapsed_sections": [
        "y_B4WJ9axesI",
        "nxGInxCqfaJ9"
      ],
      "authorship_tag": "ABX9TyOxj7ysE4J+J5PFfyiLGhq2",
      "include_colab_link": true
    },
    "kernelspec": {
      "name": "python3",
      "display_name": "Python 3"
    },
    "language_info": {
      "name": "python"
    }
  },
  "cells": [
    {
      "cell_type": "markdown",
      "metadata": {
        "id": "view-in-github",
        "colab_type": "text"
      },
      "source": [
        "<a href=\"https://colab.research.google.com/github/Amir-Mohammadi/DataScience/blob/main/math.ipynb\" target=\"_parent\"><img src=\"https://colab.research.google.com/assets/colab-badge.svg\" alt=\"Open In Colab\"/></a>"
      ]
    },
    {
      "cell_type": "markdown",
      "source": [
        "# plot graph math"
      ],
      "metadata": {
        "id": "y_B4WJ9axesI"
      }
    },
    {
      "cell_type": "code",
      "execution_count": null,
      "metadata": {
        "id": "jOOIL6qka71f"
      },
      "outputs": [],
      "source": [
        "from sympy import *\n",
        "from sympy.plotting import plot3d\n",
        "\n",
        "z = symbols('z')\n",
        "w = z**2 + 12\n",
        "plot(w)\n",
        "\n",
        "\n",
        "x , y= symbols('x y')\n",
        "f = 2*x + 3*y\n",
        "plot3d(f)\n",
        "\n",
        "\n"
      ]
    },
    {
      "cell_type": "markdown",
      "source": [
        "# Summations (Σ)\n",
        "\n"
      ],
      "metadata": {
        "id": "nxGInxCqfaJ9"
      }
    },
    {
      "cell_type": "code",
      "source": [
        "# this is the normal code to run summation\n",
        "\n",
        "n = int(input())\n",
        "summation = sum(10*i for i in range(1,n))\n",
        "print(summation)\n"
      ],
      "metadata": {
        "id": "i1zsFnzGfzod"
      },
      "execution_count": null,
      "outputs": []
    },
    {
      "cell_type": "markdown",
      "source": [
        "this is the sympy way "
      ],
      "metadata": {
        "id": "dot1PCX7wo2y"
      }
    },
    {
      "cell_type": "code",
      "source": [
        "from sympy import * \n",
        "i,n = symbols('i n')\n",
        "\n",
        "# iterate each element i from 1 to n\n",
        "\n",
        "summation = Sum(i*i,(i,1,n))\n",
        "upToFive = summation.subs(n,5)\n",
        "print(upToFive.doit())"
      ],
      "metadata": {
        "id": "QuF89WM8haYh"
      },
      "execution_count": null,
      "outputs": []
    },
    {
      "cell_type": "code",
      "source": [
        "from sympy import *\n",
        "\n",
        "x = symbols('x')\n",
        "expr = x**2 / x**5\n",
        "print(expr) # x**(-3)"
      ],
      "metadata": {
        "id": "4pNMX2HcwxF6"
      },
      "execution_count": null,
      "outputs": []
    },
    {
      "cell_type": "code",
      "source": [],
      "metadata": {
        "id": "jItVC4d8xog4"
      },
      "execution_count": null,
      "outputs": []
    },
    {
      "cell_type": "markdown",
      "source": [
        "# Logarimts\n"
      ],
      "metadata": {
        "id": "bEnsoQzsxqy_"
      }
    }
  ]
}